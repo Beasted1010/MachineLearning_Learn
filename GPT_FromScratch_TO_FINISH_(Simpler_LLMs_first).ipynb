{
  "nbformat": 4,
  "nbformat_minor": 0,
  "metadata": {
    "colab": {
      "provenance": [],
      "authorship_tag": "ABX9TyNRzadQO2uzY+wIaDmMZsT0",
      "include_colab_link": true
    },
    "kernelspec": {
      "name": "python3",
      "display_name": "Python 3"
    },
    "language_info": {
      "name": "python"
    }
  },
  "cells": [
    {
      "cell_type": "markdown",
      "metadata": {
        "id": "view-in-github",
        "colab_type": "text"
      },
      "source": [
        "<a href=\"https://colab.research.google.com/github/N534H699/MachineLearning_Learn/blob/main/GPT_FromScratch_TO_FINISH_(Simpler_LLMs_first).ipynb\" target=\"_parent\"><img src=\"https://colab.research.google.com/assets/colab-badge.svg\" alt=\"Open In Colab\"/></a>"
      ]
    },
    {
      "cell_type": "code",
      "execution_count": null,
      "metadata": {
        "id": "yNhOKb5mBq6j",
        "colab": {
          "base_uri": "https://localhost:8080/"
        },
        "outputId": "28f0b4c9-b96b-4c27-82c9-1487976baa0b"
      },
      "outputs": [
        {
          "output_type": "stream",
          "name": "stdout",
          "text": [
            "--2023-05-29 21:00:38--  https://raw.githubusercontent.com/karpathy/char-rnn/master/data/tinyshakespeare/input.txt\n",
            "Resolving raw.githubusercontent.com (raw.githubusercontent.com)... 185.199.108.133, 185.199.109.133, 185.199.110.133, ...\n",
            "Connecting to raw.githubusercontent.com (raw.githubusercontent.com)|185.199.108.133|:443... connected.\n",
            "HTTP request sent, awaiting response... 200 OK\n",
            "Length: 1115394 (1.1M) [text/plain]\n",
            "Saving to: ‘input.txt.1’\n",
            "\n",
            "input.txt.1         100%[===================>]   1.06M  --.-KB/s    in 0.05s   \n",
            "\n",
            "2023-05-29 21:00:39 (23.3 MB/s) - ‘input.txt.1’ saved [1115394/1115394]\n",
            "\n"
          ]
        }
      ],
      "source": [
        "!wget https://raw.githubusercontent.com/karpathy/char-rnn/master/data/tinyshakespeare/input.txt"
      ]
    },
    {
      "cell_type": "code",
      "source": [
        "!ls"
      ],
      "metadata": {
        "colab": {
          "base_uri": "https://localhost:8080/"
        },
        "id": "wUgmujxwCRuU",
        "outputId": "4b79f383-6314-41d0-d94e-c1a6822cce2f"
      },
      "execution_count": null,
      "outputs": [
        {
          "output_type": "stream",
          "name": "stdout",
          "text": [
            "input.txt  input.txt.1\tsample_data\n"
          ]
        }
      ]
    },
    {
      "cell_type": "code",
      "source": [
        "!ls"
      ],
      "metadata": {
        "colab": {
          "base_uri": "https://localhost:8080/"
        },
        "id": "NbH8KmDiCUje",
        "outputId": "2227ea95-ed13-41b5-9d43-db3d3c10b5e4"
      },
      "execution_count": null,
      "outputs": [
        {
          "output_type": "stream",
          "name": "stdout",
          "text": [
            "input.txt  input.txt.1\tsample_data\n"
          ]
        }
      ]
    },
    {
      "cell_type": "code",
      "source": [
        "with open('input.txt', 'r', encoding='utf-8') as f:\n",
        "  text = f.read()"
      ],
      "metadata": {
        "id": "6dMmgoaXCY6a"
      },
      "execution_count": null,
      "outputs": []
    },
    {
      "cell_type": "code",
      "source": [
        "text"
      ],
      "metadata": {
        "id": "8DxsMbidCxBB"
      },
      "execution_count": null,
      "outputs": []
    },
    {
      "cell_type": "code",
      "source": [
        "len(text)"
      ],
      "metadata": {
        "colab": {
          "base_uri": "https://localhost:8080/"
        },
        "id": "fs_zCffDCyAf",
        "outputId": "d927d05d-b53d-4b09-e845-48946ae959d9"
      },
      "execution_count": null,
      "outputs": [
        {
          "output_type": "execute_result",
          "data": {
            "text/plain": [
              "1115394"
            ]
          },
          "metadata": {},
          "execution_count": 33
        }
      ]
    },
    {
      "cell_type": "code",
      "source": [
        "chars = sorted(list(set(text)))\n",
        "vocab_size = len(chars)\n",
        "print(''.join(chars))\n",
        "print(vocab_size)"
      ],
      "metadata": {
        "colab": {
          "base_uri": "https://localhost:8080/"
        },
        "id": "ccwPfv0hC0fw",
        "outputId": "94325def-ef1a-442f-f930-798906b18433"
      },
      "execution_count": null,
      "outputs": [
        {
          "output_type": "stream",
          "name": "stdout",
          "text": [
            "\n",
            " !$&',-.3:;?ABCDEFGHIJKLMNOPQRSTUVWXYZabcdefghijklmnopqrstuvwxyz\n",
            "65\n"
          ]
        }
      ]
    },
    {
      "cell_type": "code",
      "source": [
        "# Unique Characters in our text. I.e. our \"Vocabulary\""
      ],
      "metadata": {
        "id": "9-sVmflbC_Qy"
      },
      "execution_count": null,
      "outputs": []
    },
    {
      "cell_type": "code",
      "source": [
        "# Now need Tokenize the Input (convert to raw text as string to some sequence of characters according to some vocab of possible elements)"
      ],
      "metadata": {
        "id": "th9TSzlLDD3l"
      },
      "execution_count": null,
      "outputs": []
    },
    {
      "cell_type": "code",
      "source": [
        "stoi = { ch: i for i, ch in enumerate(chars) }\n",
        "itos = { i:ch for i, ch in enumerate(chars) }\n",
        "encode = lambda s: [stoi[c] for c in s]\n",
        "decode = lambda l: ''.join([itos[i] for i in l])"
      ],
      "metadata": {
        "id": "9BLKLbaiDLSZ"
      },
      "execution_count": null,
      "outputs": []
    },
    {
      "cell_type": "code",
      "source": [
        "encode(\"HI there\")"
      ],
      "metadata": {
        "colab": {
          "base_uri": "https://localhost:8080/"
        },
        "id": "xUvotSR0Dc8g",
        "outputId": "231b4415-f0f4-4a27-c35d-08304296c2b4"
      },
      "execution_count": null,
      "outputs": [
        {
          "output_type": "execute_result",
          "data": {
            "text/plain": [
              "[20, 21, 1, 58, 46, 43, 56, 43]"
            ]
          },
          "metadata": {},
          "execution_count": 38
        }
      ]
    },
    {
      "cell_type": "code",
      "source": [
        "decode ([20, 21, 1, 58, 46, 43, 56, 43])"
      ],
      "metadata": {
        "colab": {
          "base_uri": "https://localhost:8080/",
          "height": 35
        },
        "id": "ddTzoIzMDeSj",
        "outputId": "146d0a59-f2ed-438e-d0fb-67c390d4c41e"
      },
      "execution_count": null,
      "outputs": [
        {
          "output_type": "execute_result",
          "data": {
            "text/plain": [
              "'HI there'"
            ],
            "application/vnd.google.colaboratory.intrinsic+json": {
              "type": "string"
            }
          },
          "metadata": {},
          "execution_count": 39
        }
      ]
    },
    {
      "cell_type": "code",
      "source": [
        "# Character Level Tokenizer (very small code books and very simple encode/decode functions -- for simplicity)"
      ],
      "metadata": {
        "id": "LfFNcuzvDhBO"
      },
      "execution_count": null,
      "outputs": []
    },
    {
      "cell_type": "code",
      "source": [
        "import torch\n",
        "data = torch.tensor( encode(text), dtype=torch.long ) # Encode all Tiny Shakespear\n",
        "print( data.shape, data.dtype )\n",
        "print( data[:100]) # First 100 Elements of Data Tensor (identical to first 100 chars of Tiny Shakespear Encoded)"
      ],
      "metadata": {
        "colab": {
          "base_uri": "https://localhost:8080/"
        },
        "id": "Gvfk_LT0D5BT",
        "outputId": "701eb02a-417b-4a7f-abb4-4ff4d284e2a7"
      },
      "execution_count": null,
      "outputs": [
        {
          "output_type": "stream",
          "name": "stdout",
          "text": [
            "torch.Size([1115394]) torch.int64\n",
            "tensor([18, 47, 56, 57, 58,  1, 15, 47, 58, 47, 64, 43, 52, 10,  0, 14, 43, 44,\n",
            "        53, 56, 43,  1, 61, 43,  1, 54, 56, 53, 41, 43, 43, 42,  1, 39, 52, 63,\n",
            "         1, 44, 59, 56, 58, 46, 43, 56,  6,  1, 46, 43, 39, 56,  1, 51, 43,  1,\n",
            "        57, 54, 43, 39, 49,  8,  0,  0, 13, 50, 50, 10,  0, 31, 54, 43, 39, 49,\n",
            "         6,  1, 57, 54, 43, 39, 49,  8,  0,  0, 18, 47, 56, 57, 58,  1, 15, 47,\n",
            "        58, 47, 64, 43, 52, 10,  0, 37, 53, 59])\n"
          ]
        }
      ]
    },
    {
      "cell_type": "code",
      "source": [
        "n = int( 0.9 * len(data) ) # First 90% will be training, rest is validation\n",
        "train_data = data[:n]\n",
        "val_data = data[n:] # Last 10% (help determine what extent Model Overfitting)"
      ],
      "metadata": {
        "id": "63wdzUAZEIuF"
      },
      "execution_count": null,
      "outputs": []
    },
    {
      "cell_type": "code",
      "source": [
        "len(train_data)"
      ],
      "metadata": {
        "colab": {
          "base_uri": "https://localhost:8080/"
        },
        "id": "5z6LwnwrEXux",
        "outputId": "960018e5-658c-4745-b6e1-019cae819230"
      },
      "execution_count": null,
      "outputs": [
        {
          "output_type": "execute_result",
          "data": {
            "text/plain": [
              "1003854"
            ]
          },
          "metadata": {},
          "execution_count": 43
        }
      ]
    },
    {
      "cell_type": "code",
      "source": [
        "len(val_data)"
      ],
      "metadata": {
        "colab": {
          "base_uri": "https://localhost:8080/"
        },
        "id": "7fvkGPHTEZbX",
        "outputId": "2521e4b2-9868-4608-ca9a-144d8ac0ec28"
      },
      "execution_count": null,
      "outputs": [
        {
          "output_type": "execute_result",
          "data": {
            "text/plain": [
              "111540"
            ]
          },
          "metadata": {},
          "execution_count": 44
        }
      ]
    },
    {
      "cell_type": "code",
      "source": [
        "# Won't send all text in DataSet at once, would be computationally expensive\n",
        "# So, train chunks at a time (each with some maximum length, e.g. \"Block Size\" may be called \"Context Length\")"
      ],
      "metadata": {
        "id": "jKuDXqVbEcW9"
      },
      "execution_count": null,
      "outputs": []
    },
    {
      "cell_type": "code",
      "source": [
        "block_size = 8 # First 8 Characters\n",
        "train_data[:block_size+1]"
      ],
      "metadata": {
        "colab": {
          "base_uri": "https://localhost:8080/"
        },
        "id": "v6l1mUZMEoav",
        "outputId": "64d0d7e3-2d6e-4c3a-f03c-df6445049e68"
      },
      "execution_count": null,
      "outputs": [
        {
          "output_type": "execute_result",
          "data": {
            "text/plain": [
              "tensor([18, 47, 56, 57, 58,  1, 15, 47, 58])"
            ]
          },
          "metadata": {},
          "execution_count": 46
        }
      ]
    },
    {
      "cell_type": "code",
      "source": [
        "# Many examples packed in when Sample Data like this,\n",
        "# ... Since all characters follow each other,\n",
        "# ... Simultaneously training @ every one of the positions (e.g. 18... 18,47... 18,47,56...)\n",
        "# ... This gives Context, such as in context of 18 and 47, 56 is next character"
      ],
      "metadata": {
        "id": "v7NRDu7BErG-"
      },
      "execution_count": null,
      "outputs": []
    },
    {
      "cell_type": "code",
      "source": [
        "x = train_data[:block_size] # Inputs to Transformer (first Block-size Chars)\n",
        "y = train_data[1:block_size+1] # Offset by one since y is Label / Target (what's next)\n",
        "for t in range(block_size):\n",
        "  context = x[:t+1] # Always all characters in X up to t, including t\n",
        "  target = y[t] # Always t'th character in Targets Array Y\n",
        "  print(f\"when input is {context} the target: {target}\")"
      ],
      "metadata": {
        "colab": {
          "base_uri": "https://localhost:8080/"
        },
        "id": "RMiRpOrbE-Ts",
        "outputId": "800906d6-2250-4647-ccd8-9732fca4531f"
      },
      "execution_count": null,
      "outputs": [
        {
          "output_type": "stream",
          "name": "stdout",
          "text": [
            "when input is tensor([18]) the target: 47\n",
            "when input is tensor([18, 47]) the target: 56\n",
            "when input is tensor([18, 47, 56]) the target: 57\n",
            "when input is tensor([18, 47, 56, 57]) the target: 58\n",
            "when input is tensor([18, 47, 56, 57, 58]) the target: 1\n",
            "when input is tensor([18, 47, 56, 57, 58,  1]) the target: 15\n",
            "when input is tensor([18, 47, 56, 57, 58,  1, 15]) the target: 47\n",
            "when input is tensor([18, 47, 56, 57, 58,  1, 15, 47]) the target: 58\n"
          ]
        }
      ]
    },
    {
      "cell_type": "code",
      "source": [
        "# ^ is all the 8 examples hidden in the chunk of 9 characters we sampled from Training Set\n",
        "# This range of 1 to Block Size is useful to train Model to predict with Context as little as 1"
      ],
      "metadata": {
        "id": "LCU1D5Q6FYc0"
      },
      "execution_count": null,
      "outputs": []
    },
    {
      "cell_type": "code",
      "source": [
        "# 18 Minute: Batch Dimension for Effiency (Mini Batches of mult Chunks of text stacked in single Tensor (multiple arrays) to keep GPUs busy by processing multiple chunks at once)"
      ],
      "metadata": {
        "id": "CuRTjUIfFgqj"
      },
      "execution_count": null,
      "outputs": []
    },
    {
      "cell_type": "code",
      "source": [
        "import torch\n",
        "torch.manual_seed(1337)"
      ],
      "metadata": {
        "id": "VXm6mjf7LdQj",
        "colab": {
          "base_uri": "https://localhost:8080/"
        },
        "outputId": "00ec1612-c97b-4376-8cc8-670583a58e6d"
      },
      "execution_count": null,
      "outputs": [
        {
          "output_type": "execute_result",
          "data": {
            "text/plain": [
              "<torch._C.Generator at 0x7fecc9ba2f90>"
            ]
          },
          "metadata": {},
          "execution_count": 51
        }
      ]
    },
    {
      "cell_type": "code",
      "source": [
        "batch_size = 4 # Number independent sequence we'll process in parallel (#indep seq processing every forward/backward pass of Transformer)\n",
        "block_size = 8 # Maximum Context Length for Predictions\n",
        "\n",
        "def get_batch( split ):\n",
        "  # Generate a small Batch of Data of Inputs X and Targets Y\n",
        "  data = train_data if split == 'train' else val_data\n",
        "  ix = torch.randint( len(data) - block_size, (batch_size,) ) # Generate random positions to grab a chunk out of, done by generating batch_size # of random offsets. Since batch_size = 4, ix will be 4 numbers, randomly generated between 0 and (len(data)-block_size)\n",
        "  # One Dimensional Tensors will become Stacked in a row as a 4 x 8 Tensor\n",
        "  x = torch.stack( [data[i:i+block_size] for i in ix] )\n",
        "  y = torch.stack( [data[i+1: i+block_size+1] for i in ix] ) # Y's are 1 after Xs, so offset by one\n",
        "  return x,y\n",
        "\n",
        "xb, yb = get_batch( 'train' )\n",
        "# Each Row is a Chunk of Training Set\n",
        "print('inputs:'); print(xb.shape); print(xb);\n",
        "\n",
        "# Comes in to Transformer at end to create the Loss Function (giving correct Answer for every Position inside X)\n",
        "# Targets are used to look up correct answers for prediction corrections (Loss adjustments) during training\n",
        "print( 'targets:'); print(yb.shape); print(yb);"
      ],
      "metadata": {
        "colab": {
          "base_uri": "https://localhost:8080/"
        },
        "id": "IF_BeFfXVbG9",
        "outputId": "aa284af5-d902-4c67-a6ea-60e085ef6a54"
      },
      "execution_count": null,
      "outputs": [
        {
          "output_type": "stream",
          "name": "stdout",
          "text": [
            "inputs:\n",
            "torch.Size([4, 8])\n",
            "tensor([[24, 43, 58,  5, 57,  1, 46, 43],\n",
            "        [44, 53, 56,  1, 58, 46, 39, 58],\n",
            "        [52, 58,  1, 58, 46, 39, 58,  1],\n",
            "        [25, 17, 27, 10,  0, 21,  1, 54]])\n",
            "targets:\n",
            "torch.Size([4, 8])\n",
            "tensor([[43, 58,  5, 57,  1, 46, 43, 39],\n",
            "        [53, 56,  1, 58, 46, 39, 58,  1],\n",
            "        [58,  1, 58, 46, 39, 58,  1, 46],\n",
            "        [17, 27, 10,  0, 21,  1, 54, 39]])\n"
          ]
        }
      ]
    },
    {
      "cell_type": "code",
      "source": [
        "print(xb)"
      ],
      "metadata": {
        "colab": {
          "base_uri": "https://localhost:8080/"
        },
        "id": "keHaZY_2YB7V",
        "outputId": "849054bd-9fb8-4c0c-daf7-17f64cbab818"
      },
      "execution_count": null,
      "outputs": [
        {
          "output_type": "stream",
          "name": "stdout",
          "text": [
            "tensor([[24, 43, 58,  5, 57,  1, 46, 43],\n",
            "        [44, 53, 56,  1, 58, 46, 39, 58],\n",
            "        [52, 58,  1, 58, 46, 39, 58,  1],\n",
            "        [25, 17, 27, 10,  0, 21,  1, 54]])\n"
          ]
        }
      ]
    },
    {
      "cell_type": "code",
      "source": [],
      "metadata": {
        "id": "ckQyx-_fAZVV"
      },
      "execution_count": null,
      "outputs": []
    }
  ]
}