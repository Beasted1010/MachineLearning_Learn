{
  "nbformat": 4,
  "nbformat_minor": 0,
  "metadata": {
    "colab": {
      "provenance": [],
      "authorship_tag": "ABX9TyNojjarFN7xP7s9S2tbIGYc",
      "include_colab_link": true
    },
    "kernelspec": {
      "name": "python3",
      "display_name": "Python 3"
    },
    "language_info": {
      "name": "python"
    }
  },
  "cells": [
    {
      "cell_type": "markdown",
      "metadata": {
        "id": "view-in-github",
        "colab_type": "text"
      },
      "source": [
        "<a href=\"https://colab.research.google.com/github/N534H699/MachineLearning_Learn/blob/main/MakeMore_BiGram_ContextAdded.ipynb\" target=\"_parent\"><img src=\"https://colab.research.google.com/assets/colab-badge.svg\" alt=\"Open In Colab\"/></a>"
      ]
    },
    {
      "cell_type": "code",
      "execution_count": null,
      "metadata": {
        "id": "-ZnWroG2uOvA"
      },
      "outputs": [],
      "source": [
        "# RECALL: Previously done with a Freq Table with Single Prev Char (then used NN)\n",
        "# BUT, if want more than one Prev Char, possible combos explodes (# Rows, e.g. 27 * 27 if 2 Char Context = 729 Possibilities... if 3 prev chars, then 27*27*27 = 19,683 possibilities of Context) -> Way too many Rows, too few Counts for each Possibility\n",
        "# SO, will implement Multi Layer Perceptron (MLP) Model -- Was known back in 2003 when Research Paper released (fairly old approach)\n",
        "# Still sticking with Characters here (not Word-Level Language Model)\n",
        "\n",
        "# Approach: Each Token will have associated Feature Vector (e.g. 30 Dimensional)\n",
        "# ... So, every (one of the e.g. 17k) Token embedded in a e.g. 30D Space (crowded, lots points for that small of space)\n",
        "# ... Starts out spread out (Tokens init randomly), Training will Tune these Embeddings of these Words via Back Propagation\n",
        "# ... I.e. These Vectors will move around in the space, Similar Tokens (e.g. Words) end up near each other (can Transfer Knowledge through the Embedding Space thanks to this, i.e. a Word next to another perhaps has similar meaning, such as \"the\" and \"a\")\n",
        "\n",
        "# Modeling Approach: Multi-Layer NN, trained via Maximizing Log Likelihood of the Training Data\n",
        "# ... Input Layer: FIRST Index into Matrix C w/ one of each Prev Tokens want take in (e.g. if 17k words, each input is INDEX of Token/Work, so input ranges 0-16999).\n",
        "# ... - Input Layer # Neurons = (1 per Prev Word * someVal) E.g. 3 Prev Words, each w/ Lookup Table corresponding to 30 cols in a Row, so 30 Neurons rep per Prev Word, total of 3 * 30 = 90 Neurons in total\n",
        "# ... - Lookup (Embedding) Table C (# Tokens x someVal, e.g. 17k x 30) -> Every Index Input is plucking out Row of Embedding Matrix C, each Index converted to the 30 Dim Vector that corresponds to the Embedding Vector for that word.\n",
        "# ... --- Shared across all the Words (always indexing into same Matrix C over and over for each Word)\n",
        "# ... - Input goes through Embedding Layer to get actual Input to NN (e.g. 3 Prev Words, 30 Neurons per Word for each entry in corresponding Row Vec, 30 * 3 = 90 Neurons in Input Layer)\n",
        "# ... Hidden Layer: Fully Connected. # Nuerons is a HyperParam can tweak. TanH Non-Linearity applied.\n",
        "# ... Output Layer: SoftMax (Probability o/p). Fully Connected Layer w/ 1 Neuron per Token (e.g. 17k Words that could come \"next\", then 17k Neurons) -> EXPENSIVE LAYER (most computation)\n",
        "# ... - Logits go in SoftMax, get exponentiated & normalized (to sum to one so have Probability Distribution for next Token in Sequence) -> And during Training we have the Label, thus can use its Index to pluck out Probability of that Token from NN Output, then we max that Token's Probability w.r.t the Params of that NN -> Optimized via Back Propagation\n",
        "# The Parameters of the NN are the Weights and Biases of the Output Layer, Hidden Layer, and Embedding Lookup Table (C) -> All these Params Optimized via Back Propagation"
      ]
    },
    {
      "cell_type": "code",
      "source": [
        "import torch\n",
        "import torch.nn.functional as F\n",
        "import matplotlib.pyplot as plt # For Figures\n",
        "%matplotlib inline"
      ],
      "metadata": {
        "id": "oeKiYewr0Pol"
      },
      "execution_count": null,
      "outputs": []
    },
    {
      "cell_type": "code",
      "source": [
        "# Same setup as before\n",
        "\n",
        "# This time, downloading names.txt so not need manually add\n",
        "!wget https://raw.githubusercontent.com/karpathy/makemore/master/names.txt\n",
        "\n",
        "# Read all Words in\n",
        "words = open( 'names.txt', 'r' ).read().splitlines()\n",
        "print( f\"Word Count: {len(words)}\" ); print( words[:5] ) # Verify words is populated"
      ],
      "metadata": {
        "colab": {
          "base_uri": "https://localhost:8080/"
        },
        "id": "oImENj8W0bej",
        "outputId": "798e3361-fef3-4b37-8323-6b3912b6fcd3"
      },
      "execution_count": null,
      "outputs": [
        {
          "output_type": "stream",
          "name": "stdout",
          "text": [
            "--2023-07-04 22:39:03--  https://raw.githubusercontent.com/karpathy/makemore/master/names.txt\n",
            "Resolving raw.githubusercontent.com (raw.githubusercontent.com)... 185.199.108.133, 185.199.109.133, 185.199.110.133, ...\n",
            "Connecting to raw.githubusercontent.com (raw.githubusercontent.com)|185.199.108.133|:443... connected.\n",
            "HTTP request sent, awaiting response... 200 OK\n",
            "Length: 228145 (223K) [text/plain]\n",
            "Saving to: ‘names.txt’\n",
            "\n",
            "\rnames.txt             0%[                    ]       0  --.-KB/s               \rnames.txt           100%[===================>] 222.80K  --.-KB/s    in 0.03s   \n",
            "\n",
            "2023-07-04 22:39:04 (7.37 MB/s) - ‘names.txt’ saved [228145/228145]\n",
            "\n",
            "Word Count: 32033\n",
            "['emma', 'olivia', 'ava', 'isabella', 'sophia']\n"
          ]
        }
      ]
    },
    {
      "cell_type": "code",
      "source": [
        "# Build Vocabulary of Chars and Map Functions to/from Ints\n",
        "chars = sorted(list(set( ''.join(words) )))\n",
        "\n",
        "stoi = { s:i+1 for i,s in enumerate(chars) } # +1 to leave space for '.' at [0] (for ease of use and easy distinction of '.' from letters)\n",
        "stoi['.'] = 0 # Start/Stop Char\n",
        "\n",
        "itos = { i:s for s,i in stoi.items() }\n",
        "print(stoi['f'], itos[stoi['f']]);"
      ],
      "metadata": {
        "colab": {
          "base_uri": "https://localhost:8080/"
        },
        "id": "Ht-1wF7y0u8U",
        "outputId": "e7075f94-bd92-4cda-d252-63632bdb5159"
      },
      "execution_count": null,
      "outputs": [
        {
          "output_type": "stream",
          "name": "stdout",
          "text": [
            "6 f\n"
          ]
        }
      ]
    },
    {
      "cell_type": "code",
      "source": [
        "# Build DataSet for Model\n",
        "\n",
        "block_size = 3 # \"Context Length\" (# Prev Chars NN take in to predict next) -- Can modify as desired for Context Length\n",
        "X, Y = [], [] # Inputs / Output\n",
        "\n",
        "#for w in words[:5]: # Start with only 5 Words\n",
        "for w in words: # All da Words\n",
        "  context = [0] * block_size # Sliding Window inits to \"...\" (i.e. Index 0)\n",
        "  for char in w + '.':\n",
        "    ix = stoi[char]\n",
        "\n",
        "    X.append( context )\n",
        "    Y.append( ix )\n",
        "\n",
        "    #print(f\"{''.join(itos[i] for i in context)} ---> {itos[ix]}\")\n",
        "    context = context[1:] + [ix] # Sliding Window shifts 1\n",
        "\n",
        "X = torch.tensor(X)\n",
        "Y = torch.tensor(Y)\n",
        "\n",
        "print( \"X Shape/Type: \", X.shape, X.dtype )\n",
        "print( \"Y Shape/Type: \", Y.shape, Y.dtype )"
      ],
      "metadata": {
        "colab": {
          "base_uri": "https://localhost:8080/"
        },
        "id": "o_Nst2KD1E8E",
        "outputId": "735312d6-2662-4035-c740-146c30266e7a"
      },
      "execution_count": null,
      "outputs": [
        {
          "output_type": "stream",
          "name": "stdout",
          "text": [
            "X Shape/Type:  torch.Size([228146, 3]) torch.int64\n",
            "Y Shape/Type:  torch.Size([228146]) torch.int64\n"
          ]
        }
      ]
    },
    {
      "cell_type": "code",
      "source": [
        "# === Construct Input Layer\n",
        "\n",
        "# Build Embedding Lookup Table C\n",
        "# 27 Characters, embedding in some smaller Dimensional (e.g. 17k Words/Tokens into 30 Dimensional Space)\n",
        "# For us, embed in 2D space. Each one of 27 Chars has 2D Embedding (27 x 2 Matrix C)\n",
        "# C initially randomized\n",
        "C = torch.randn( (27,2) )\n",
        "\n",
        "# NOTE: Size of Embeddings is also a Hyper Parameter\n",
        "# -- Something like only 2 Dimensional Embeddings may be too small (Neural Net isn't able use that space effectively)\n",
        "# ---- Will see this come up later, but using 2 for now\n",
        "\n",
        "# One way can Embed... Direct Index e.g. 5, C[5] -> Gives Embedding Vector for Row X\n",
        "# Previously, we took Int and did OneHot Encoding ( F.one_hot(torch.tensor(5), num_classes=27) -> Vector (27 elems) of 0s except 5th Element. 5 has to be wrapped in a Tensor)\n",
        "# If do oneHotVector.float() @ C (need .float() since oneHot is 64 Bit Int)\n",
        "# ... GET SAME RESULT if do C[5] -> I.e. Matrix Mult \"plucks out\" 5th Row (which is 1 bit in oneHotVector, rest are 0s)\n",
        "# ... THUS, can think of our (embedding of Vector) oneHotVector @ C like indexing into C AND is first Layer of a bigger Neural Network -> w/ Layer of Linear Neurons with Weight Matrix of C\n",
        "# ... We will Index for speed (not consider the oneHot interpretation)\n",
        "\n",
        "# How simultaneously embed all Examples (e.g. 32 x 3 ints in Array X, 32 examples w/ Context Length 3)?\n",
        "# ... Can INDEX with a LIST in Torch, or even w/ Tensor. E.g. C[[1,2,3]] or C[torch.tensor[1,2,3]]\n",
        "# ... Can Index w/ MultiDim Tensors of Ints. Exactly what X is...\n",
        "# ... ... So, can do C[X] -> 32x3 x 2 (orig 32x3, now w/ each entry having a 2 elem Embedding Vector)\n",
        "# ... ... E.g. X[13, 2] Example Index 13, 2nd Dim is Int 1 (tensor(1))\n",
        "# ... ... So now, E.g. C[X][13,2] -> gives Embedding for it -> e.g. tensor([ 1.0815, -0.3502] ) (still randomized)\n",
        "# ... C[5] -> 5th Row of C... C[X] -> Gets all Embeddings (Shape: [32, 3, 2])\n",
        "# ... ... SO, C[X][13,2] is indexing the first 2 Dims ([13,2] of ^), and getting that specific entry, Example Index 13 2nd Context Index\n",
        "# ... ... Which is same as C[1] (which is what X[13,2] gives, i.e. tensor(1))\n",
        "# SO can simply do:\n",
        "embedding = C[X] # X is 32x3 (32 exps, 3 context length), C[X] assoc each Char in X (each in Context too) w/ Embedding\n",
        "embedding.shape"
      ],
      "metadata": {
        "colab": {
          "base_uri": "https://localhost:8080/"
        },
        "id": "IrtHQhZk6IE1",
        "outputId": "48b754b7-12ec-4dc5-b4cb-537154202b50"
      },
      "execution_count": null,
      "outputs": [
        {
          "output_type": "execute_result",
          "data": {
            "text/plain": [
              "torch.Size([228146, 3, 2])"
            ]
          },
          "metadata": {},
          "execution_count": 7
        }
      ]
    },
    {
      "cell_type": "code",
      "source": [
        "# === Construct Hidden Layer\n",
        "\n",
        "# Number Inputs to Hidden Layer is 2 Dim Embeddings per Input Layer Neuron, and 3 Neurons in Input Layer (3*2)\n",
        "# Number Neuron in Hidden Layer is up to us (e.g. 100)\n",
        "W1 = torch.randn( (3*2, 100) )\n",
        "b1 = torch.randn( 100 ) # Biases (1 per Neuron on Hidden Layer)\n",
        "\n",
        "# Want do something like: (embedding @ W1) + b1\n",
        "# BUT, Embeddings are stacked up in the Dimensions of the embedding Tensor (shape of 32x3x2 and can't mult that by 6x100)\n",
        "# Need transform 32x3x3 into 32x6 so can perform the Multiplication\n",
        "# Many ways can do this, some faster/shorter/etc. -> Torch has lots of Functions can call in Tensors (add, mult, create, concat, etc.)\n",
        "# ... torch.cat (Concatenates seq of Tensors in Given Dimension)\n",
        "# ... Can use ^ to Concatenate the 3 Embeddings for each Input\n",
        "\n",
        "# Grab all Examples, 0th Index, & all of 3rd Dimension -> Pluck out 32x2 Embeddings of just the first Token\n",
        "# Repeat for 1st Index and 2nd Index (each representing Neuron in Neural Network's Input Layer)\n",
        "\n",
        "# POOR CODE due to hard-coding Context Length (assumes 3)\n",
        "#sequenceOfTensors = [embedding[:, 0, :], embedding[:, 1, :], embedding[:, 2, :]]\n",
        "#torch.cat( sequenceOfTensors, 1 ) # Cat the Sequence of Tensors together along Dimension [1] (since 32x2 and want concat along the 2s Dimension)\n",
        "\n",
        "# ONE ALT (independent of Context Length):\n",
        "#torch.cat( torch.unbind(embedding, 1), 1 )  # Removes a Tensor Dimension and returns a Tuples of all Slices along a given Dimension, without it -- I.e. above we singled out the index of the [1] Dimension manually, here, we can do so for ALL in Embedding Tensor\n",
        "# -- INEFFICIENT THOUGH, Concatenation will create entirely new Memory (new Tensor w/ all new Storage since no way to Concatenate Tensors by just manipulating View Attributes)\n",
        "\n",
        "# BETTER WAY (Can re-represent a Tensor as different Size N-Dim Vectors, such as instead of a single Vector of 18 Elements, it can be made a 3x3x3 or 2x9 or 9x2 Tensor... -> Done via Views, as long as total # Elements when Mult together Dim Sizes, is the same):\n",
        "# -- EFFICIENT cuz \"Underlying Storage of Tensor\" is rep as 1 Dimensional Vector in memory, calling \"View\" manipulated some Attributes of Tensor that dictates the Dimensions of the Tensor -> NO MEMORY CHANGED/COPIED/CREATED (Storage is Identical, just Internal Attributes of View of Tensor is manipulated, such as Storage Offset, Strides, and Shape)\n",
        "##a = torch.arange(18)\n",
        "##print( a.view(3,3,2) ); # 3*3*2=18 elements still can do a.view(9,2)\n",
        "\n",
        "# So, can do this with the Emebedding Matrix (Shape of 32x3x2, can ask PyTorch view as 32x6)\n",
        "#embedding.view(32, 6) # The way this gets flattened to 32x6 causes the \"2\" Dimension to get \"Concatenated\" into single row -> SAME RESULT AS LAST \"torch.cat(...)\"\n",
        "# TEMPORARY though, only returns Tensor with the Metadata changed, not persists within \"embedding\"\n",
        "# Shape would be a 32 x 6, where the 3x2 of 32x3x2 is brought together to be a 6 element row\n",
        "\n",
        "\n",
        "# PUTTING IT ALL TOGETHER -> Can now do the Multiple we wanted to\n",
        "#testH = embedding.view(32, 6) @ W1 + b1 # WORKS (viewing 'embedding' as 32x6)\n",
        "#testH = embedding.view( embedding.shape[0], 6 ) # ^^ Still applies ,but not hard-coding 32.\n",
        "# COULD ALSO DO \"-1\" instead of \"embedding.shape[0]\", which will cause PyTorch to Infer what it must be (since # Elements must be the same, if say second Dim is 6, then it will figure out the Dimension it must be to make Multiplication work)\n",
        "#print(testH.shape) # NOW 32x100, 100, 1 for Activation for each of our 32 Examples\n",
        "\n",
        "# True for all Elements (Element-wise Equality)\n",
        "#print( embedding.view(32,6) == torch.cat(torch.unbind(embedding, 1), 1) )\n",
        "\n",
        "\n",
        "# So, all that allows us to do...\n",
        "# Broadcasting allows this (aligns on right, creates fake Dimension \"1\" (1x100 Row Vector), then copies that Row Vector Vertically for every one of the 32 Rows of the other -> I.e. Same Bias Vector Added to all Rows of the Matrix, which is what we want)\n",
        "# 32, 100\n",
        "#  1, 100\n",
        "h = torch.tanh( embedding.view(-1, 6) @ W1 + b1 ) # Using \"-1\" insead of of embedding.shape[0] -> So PyTorch will Infer Size based on what'll make Matrix/Vector Multiplication Work\n"
      ],
      "metadata": {
        "id": "IqXVm-pwcuFP"
      },
      "execution_count": null,
      "outputs": []
    },
    {
      "cell_type": "code",
      "source": [
        "# === Construct Output Layer\n",
        "W2 = torch.randn( 100, 27 ) # Input 100, Output # Neurons = 27 (since 27 possible Characters that come next)\n",
        "b2 = torch.randn( 27 )\n",
        "\n",
        "\n",
        "logits = h @ W2 + b2 # Currently, with our first 5 Words, 32 x 27\n",
        "\n",
        "############### Can be replaced w/ Cross Entropy ###############\n",
        "# As before, exponentiate logits to get \"Fake Counts\", and continue w/ SoftMax\n",
        "counts = logits.exp()\n",
        "probabilities = counts / counts.sum(1, keepdims=True) # Along 1st Dimension\n",
        "print(probabilities.shape) # (originally) 32 x 27 (numExamples x posNextChar)\n",
        "#probabilities[0].sum() # Each Row Sums to 1 (i.e. now Normalized)\n",
        "\n",
        "exampleCount = X.shape[0]\n",
        "loss = -probabilities[torch.arange(exampleCount), Y].log().mean()\n",
        "################################################################\n",
        "\n",
        "# NOTE: Instead of `logits` through `loss` above, could use Cross Entropy (combines )\n",
        "# - FAR MORE EFFICIENT. Since no Intermediate Tensors created (all .log().mean() create new Tensors in Memory)\n",
        "# -- PyTorch clusters up all these Ops and often use Fused Kernels to efficiently eval these Expressions (Clustered Mathematical Operations)\n",
        "# -- Analyticly and Mathematically it's a simpler Backward Pass to calculate (and thus implement)\n",
        "# --- E.g. (e^(2*x) - 1) / (e^(2*x) + 1) far more complicated Mathematical Expression than say (1 - t^2)\n",
        "# -- Cross Entropy tends be more well-behaved (Mathematically)\n",
        "# ---- E.g. logits = tensor([-2,3,0,5]), fine, but what if tensor([-100, -3, 0, 5]) -- More extreme values (possible during optimization of NN)\n",
        "# ------ Because logits.exp() (which is e^somePow) will cause issues if have +100 in ^ due to logits.exp() (neg causes 1 / e^somePow = fine) Tensor containing an \"inf\" because run out of range in Floating Point Number (e^100 -> \"inf\" val due to out of range can represent #)\n",
        "# ------ PyTorch sovles this by offset Logits by some (same) arbitrary constant (any offset shared, produces same probabilities ultimately) -> PyTorch subtracts the Max Value, which makes largest # 0, and all else Negative, so exp() behaves appropriately (only causes issues on large Positive #s)\n",
        "# Cross Entropy finds difference between 2 Distributions\n",
        "# - Distribution of Model Predictions (logits)\n",
        "# - Distribution of Training Data (Y)\n",
        "loss = F.cross_entropy( logits, Y )\n"
      ],
      "metadata": {
        "colab": {
          "base_uri": "https://localhost:8080/"
        },
        "id": "cL-XpxzPOxaq",
        "outputId": "f73cc913-fa04-4347-a1c1-ed46549f3727"
      },
      "execution_count": null,
      "outputs": [
        {
          "output_type": "stream",
          "name": "stdout",
          "text": [
            "torch.Size([228146, 27])\n"
          ]
        }
      ]
    },
    {
      "cell_type": "code",
      "source": [
        "# ====================== SIMPLIFIED ======================\n",
        "\n",
        "g = torch.Generator().manual_seed(2147483647) # For Consistency/Reproducibility\n",
        "\n",
        "# Input Layer\n",
        "C = torch.randn( (27,2), generator=g )\n",
        "embedding = C[X]\n",
        "\n",
        "\n",
        "# Hidden Layer\n",
        "hiddenLayerNeuronCount = 100\n",
        "W1 = torch.randn( (3*2, hiddenLayerNeuronCount), generator=g )\n",
        "b1 = torch.randn( hiddenLayerNeuronCount, generator=g )\n",
        "\n",
        "h = torch.tanh( embedding.view(-1, 3*2) @ W1 + b1 ) # E.g. (32, 100)\n",
        "\n",
        "\n",
        "# Output Layer\n",
        "W2 = torch.randn( (hiddenLayerNeuronCount, 27), generator=g )\n",
        "b2 = torch.randn( 27, generator=g )\n",
        "\n",
        "logits = h @ W2 + b2 # 32 x 27\n",
        "#counts = logits.exp()\n",
        "#probabilities = counts / counts.sum( 1, keepdims=True )\n",
        "#loss = -probabilities[ torch.arange(32), Y ].log().mean()\n",
        "loss = F.cross_entropy( logits, Y )\n",
        "\n",
        "print( loss )\n"
      ],
      "metadata": {
        "colab": {
          "base_uri": "https://localhost:8080/"
        },
        "id": "iUdIW2De4j3l",
        "outputId": "709a709d-ab10-4bf0-8760-2715676a4831"
      },
      "execution_count": null,
      "outputs": [
        {
          "output_type": "stream",
          "name": "stdout",
          "text": [
            "tensor(19.5052)\n"
          ]
        }
      ]
    },
    {
      "cell_type": "code",
      "source": [
        "# =============================================================================\n",
        "# =================================== RESET ===================================\n",
        "# =============================================================================\n",
        "# Quick Re-Init of Model Parameters\n",
        "\n",
        "C = torch.randn( (27,2), generator=g )\n",
        "\n",
        "hiddenLayerNeuronCount = 100 # HyperParam\n",
        "W1 = torch.randn( (3*2, hiddenLayerNeuronCount), generator=g ) # Input = hiddenLayerNeuronCount, Output = 3*2 (3 Neurons, each with 2 Embedded Values)\n",
        "b1 = torch.randn( hiddenLayerNeuronCount )\n",
        "\n",
        "W2 = torch.randn( (hiddenLayerNeuronCount, 27), generator=g )\n",
        "b2 = torch.randn( 27, generator=g )\n",
        "\n",
        "\n",
        "# Ensure all Params Require Gradient (to be calc by Torch) -- Repeating here for Convenience.\n",
        "parameters = [C, W1, b1, W2, b2]\n",
        "for p in parameters:\n",
        "  p.requires_grad = True"
      ],
      "metadata": {
        "id": "bBlCTHu_R571"
      },
      "execution_count": null,
      "outputs": []
    },
    {
      "cell_type": "code",
      "source": [
        "# ======================== Training Loop ========================\n",
        "# NOTE: ReRun above Block of Code to reinit all Parameters\n",
        "\n",
        "# Save Parameters to loop over later (e.g. set Grad to None)\n",
        "parameters = [C, W1, b1, W2, b2]\n",
        "print(f\"Parameter Count: {sum(p.nelement() for p in parameters)}\") # 3481 Parameters\n",
        "\n",
        "for p in parameters:\n",
        "  p.requires_grad = True\n",
        "\n",
        "\n",
        "#for i in range(1000): # Takes a while cuz on FULL DataSet\n",
        "for i in range(10):\n",
        "\n",
        "  embeddings = C[X]\n",
        "\n",
        "  h = torch.tanh( embeddings.view(-1, 3*2) @ W1 + b1 )\n",
        "\n",
        "  logits = h @ W2 + b2\n",
        "\n",
        "  loss = F.cross_entropy( logits, Y )\n",
        "  print( f\"Loss on Iteration {i} = {loss}\" )\n",
        "\n",
        "  # Reset\n",
        "  for p in parameters:\n",
        "    p.grad = None\n",
        "\n",
        "  loss.backward() # Populate the Gradients\n",
        "\n",
        "  # Update\n",
        "  for p in parameters:\n",
        "    p.data += -0.1 * p.grad\n",
        "\n",
        "# Will be SMALL if not many Examples, cuz easy to Overfit (only 32 Examples but 3481 Params))\n",
        "# Can't be exactly 0 cuz multiple Examples have same Target (e.g. ...->e, ...->o, ...->a, ...->i, ...->s  i.e. multiple possibilities to follow Context=\"...\")\n",
        "# Loss is very low or 0 for cases that have unique Input for Unique Ouptut, such as \"oli\"->v, which appears once in first 5 Examples\n",
        "print(f\"Final Loss = {loss}\")\n"
      ],
      "metadata": {
        "colab": {
          "base_uri": "https://localhost:8080/"
        },
        "id": "xSMdbK_i74L1",
        "outputId": "86dff00c-625d-41ae-8d16-7de58f19e3bc"
      },
      "execution_count": null,
      "outputs": [
        {
          "output_type": "stream",
          "name": "stdout",
          "text": [
            "Parameter Count: 3481\n",
            "Loss on Iteration 0 = 14.742026329040527\n",
            "Loss on Iteration 1 = 13.952454566955566\n",
            "Loss on Iteration 2 = 13.301827430725098\n",
            "Loss on Iteration 3 = 12.680068969726562\n",
            "Loss on Iteration 4 = 12.080190658569336\n",
            "Loss on Iteration 5 = 11.605718612670898\n",
            "Loss on Iteration 6 = 11.283839225769043\n",
            "Loss on Iteration 7 = 11.156293869018555\n",
            "Loss on Iteration 8 = 10.670614242553711\n",
            "Loss on Iteration 9 = 10.348132133483887\n",
            "Final Loss = 10.348132133483887\n"
          ]
        }
      ]
    },
    {
      "cell_type": "code",
      "source": [
        "# This takes a WHILE since we're going over entire DataSet EVERY ITERATION (and tanH w/ Matrix Multiplication is on large Matrices, and all the Back Propagation being done, with large amounts of Data)\n",
        "# In Practice, we tend use Mini Batches instead, where we Train on a Mini Batches only (subset of Training Set)\n",
        "# Forwarding / Backwarding LOTS of Examples (~228k Examples)\n",
        "\n",
        "# SO, randomly select some Portion of DataSet, use as Mini Batch (each Iteration)\n",
        "# Only Forward / Backward / Update on that Mini Batch, then iterate on the Mini Batches\n",
        "\n",
        "# NOTE: Mini Batch Gradient less reliable (direction not necessarily actual Gradient Direction)\n",
        "# ... Mini Batch Gradient is less Quality than Exact Gradient\n",
        "# ... BUT, this works well in practice.\n",
        "# ... Better have an Approx Gradient and take more Steps, than evaluate Exact Gradient and take fewer Steps\n"
      ],
      "metadata": {
        "id": "Aydhz-LGsM3Q"
      },
      "execution_count": null,
      "outputs": []
    },
    {
      "cell_type": "code",
      "source": [
        "# ======================== Training Loop ========================\n",
        "# ======================= WITH MINI BATCH ========================\n",
        "# NOTE: ReRun above Parameter Block of Code to reinit all Parameters\n",
        "\n",
        "# Save Parameters to loop over later (e.g. set Grad to None)\n",
        "parameters = [C, W1, b1, W2, b2]\n",
        "print(f\"Parameter Count: {sum(p.nelement() for p in parameters)}\") # 3481 Parameters\n",
        "\n",
        "for p in parameters:\n",
        "  p.requires_grad = True\n",
        "\n",
        "\n",
        "miniBatchSize = 32\n",
        "\n",
        "\n",
        "for i in range(1000): # FASTER now cuz using single Mini Batch\n",
        "\n",
        "  # Construct Mini Batch\n",
        "  # Range 0 to however many Examples there are (i.e. serves as Index into X)\n",
        "  # And there's miniBatchSize many of them\n",
        "  ix = torch.randint( 0, X.shape[0], (miniBatchSize,) ) # 32 Elements\n",
        "\n",
        "\n",
        "  # Forward Pass\n",
        "\n",
        "  # Grab Mini Batch (by indexing X w/ ix to get only miniBatchSize many Rows of X)\n",
        "  embeddings = C[X[ix]] # Now (32, 3, 2) -> 32 Examples in Mini Batch\n",
        "\n",
        "  h = torch.tanh( embeddings.view(-1, 3*2) @ W1 + b1 )\n",
        "\n",
        "  logits = h @ W2 + b2\n",
        "\n",
        "  loss = F.cross_entropy( logits, Y[ix] ) # Mini Batch Index into Y to get associated Ys\n",
        "  #print( f\"Loss on Iteration {i} = {loss}\" )\n",
        "\n",
        "\n",
        "  # Backward Pass\n",
        "\n",
        "  # Reset\n",
        "  for p in parameters:\n",
        "    p.grad = None\n",
        "\n",
        "  loss.backward() # Populate the Gradients\n",
        "\n",
        "  # Update\n",
        "  for p in parameters:\n",
        "    p.data += -0.1 * p.grad # NOT CLEAR IF 0.1 is good Learning rate -> SEE NEXT SECTION BELOW\n",
        "\n",
        "# Will be SMALL if not many Examples, cuz easy to Overfit (only 32 Examples but 3481 Params))\n",
        "# Can't be exactly 0 cuz multiple Examples have same Target (e.g. ...->e, ...->o, ...->a, ...->i, ...->s  i.e. multiple possibilities to follow Context=\"...\")\n",
        "# Loss is very low or 0 for cases that have unique Input for Unique Ouptut, such as \"oli\"->v, which appears once in first 5 Examples\n",
        "\n",
        "# Due to Mini Batch, loss here only reflects last Mini Batch ...\n",
        "#print(f\"Final Loss = {loss}\")\n",
        "\n",
        "\n",
        "# FINALLY...\n",
        "# ... Want the Loss on whole Training Set, so recalculate that\n",
        "embedding = C[X]\n",
        "h = torch.tanh( embedding.view(-1, 3*2) @ W1 + b1 )\n",
        "logits = h @ W2 + b2\n",
        "loss = F.cross_entropy( logits, Y )\n",
        "print(f\"Final Loss = {loss}\")\n"
      ],
      "metadata": {
        "colab": {
          "base_uri": "https://localhost:8080/"
        },
        "outputId": "ba4e5690-770c-4dba-ec23-7784334564bd",
        "id": "7Otexd3brJmk"
      },
      "execution_count": null,
      "outputs": [
        {
          "output_type": "stream",
          "name": "stdout",
          "text": [
            "Parameter Count: 3481\n",
            "Final Loss = 2.708108901977539\n"
          ]
        }
      ]
    },
    {
      "cell_type": "code",
      "source": [
        "# ========================== Learning Rate Adjustment ==========================\n",
        "\n",
        "'''\n",
        "How Determine Reasonable Learning Rate\n",
        "\n",
        "A) Trial/Error\n",
        "- Set iterations (# Steps) to something fairly low, not too low (e.g. 100)\n",
        "-- Print Loss at each Step\n",
        "- Find a reasonable Search Range (e.g. Learning Rate between -0.001 and -1)\n",
        "-- Done by trying Learning Rates, e.g. -0.0001 at first\n",
        "-- Each Step, check if Loss decreasing sufficiently (not too slow)\n",
        "---- Find the Learning Rate that consistently decreases Loss (but not quickly) -> THAT IS LOWER BOUND\n",
        "---- Find Learning Rate where it decreases fast (but doesn't \"explode\", meaning may go from 70 to 60 then 90 Loss again) -> UPPER BOUND\n",
        "---- THESE are LOWER and UPPER Bounds\n",
        "-- Reset all Params (e.g. Weights) after each Trial\n",
        "\n",
        "- Use torch.linspace( lower, upper, numberOfSteps ) to get 1000 #s between lower and upper (linearly)\n",
        "-- E.g. torch.linspace( 0.001, 1, 1000 ) -> 0.001, 0.002, 0.003, 0.004, 0.005, 0.006, ... 0.170, 0.171, ...\n",
        "-- Not make sense to step between lower/upper linearly BECAUSE(?) want bias towards upper end (???)\n",
        "-- SO:\n",
        "--- learningRateExp = torch.linspace( -3, 0, 1000 ) -> 10 ^ -3 = 0.001 and 10 ^ 0 = 1\n",
        "--- learningRates = 10 ** learningRateExp\n",
        "--- RESULT: learningRates are spread out EXPONENTIALLY in Interval [lower, upper]\n",
        "\n",
        "'''\n",
        "\n",
        "# Learning Rate Sampling Now Applied\n",
        "learningRateExponents = torch.linspace( -3, 0, 1000 )\n",
        "learningRates = 10 ** learningRateExponents\n",
        "\n",
        "\n",
        "# Variables to track stats for later reflection\n",
        "learningRates_i = []\n",
        "learningRateExponents_i = []\n",
        "loss_i = []\n",
        "\n",
        "MINI_BATCH_SIZE = 32\n",
        "\n",
        "for i in range(1000): # Number Steps corresponds to Number Learning Rates\n",
        "\n",
        "  # Create Mini Batch\n",
        "  ix = torch.randint( 0, X.shape[0], (MINI_BATCH_SIZE,) )\n",
        "\n",
        "  embeddings = C[X[ix]] # 32x3 x 2\n",
        "\n",
        "\n",
        "  # Hidden Layer\n",
        "  h = torch.tanh( embeddings.view(-1, 3*2) @ W1 + b1 ) # 32 x 100\n",
        "\n",
        "\n",
        "  # Output Layer\n",
        "  logits = h @ W2 + b2 # 32 x 27\n",
        "  loss = F.cross_entropy( logits, Y[ix] );\n",
        "  print( loss.item() )\n",
        "\n",
        "\n",
        "  # Backward Propagation\n",
        "  for p in parameters:\n",
        "    p.grad = None\n",
        "\n",
        "  loss.backward()\n",
        "\n",
        "  learningRate = learningRates[i]\n",
        "  for p in parameters:\n",
        "    p.data += -learningRate * p.grad\n",
        "\n",
        "\n",
        "  # Track Stats for later Plotting\n",
        "  learningRates_i.append( learningRate )\n",
        "  learningRateExponents_i.append( learningRateExponents[i] )\n",
        "  loss_i.append( loss.item() )\n",
        "\n",
        "\n"
      ],
      "metadata": {
        "id": "zkY5uW4AzGtT"
      },
      "execution_count": null,
      "outputs": []
    },
    {
      "cell_type": "code",
      "source": [
        "# This shows Learning Rates we used on X Axis, then Y Axis has the Loss we observed w/ that Learning Rate\n",
        "# COMMON PATTERN\n",
        "# At first, very low Learning Rate, gradually decreased Loss as increased Learning rate\n",
        "# Got to a good spot around 0.1, then as increased Learning Rate even more, Loss blew up\n",
        "# After a certain point of increasing Learning Rate, the Loss Exploded (became very unstable)\n",
        "plt.plot( learningRates_i, loss_i ) # Learning Rate only"
      ],
      "metadata": {
        "colab": {
          "base_uri": "https://localhost:8080/",
          "height": 449
        },
        "id": "Thd8MtU0BIry",
        "outputId": "542c673f-15fc-419a-a2ac-583349214de6"
      },
      "execution_count": null,
      "outputs": [
        {
          "output_type": "execute_result",
          "data": {
            "text/plain": [
              "[<matplotlib.lines.Line2D at 0x7f938d8a8760>]"
            ]
          },
          "metadata": {},
          "execution_count": 16
        },
        {
          "output_type": "display_data",
          "data": {
            "text/plain": [
              "<Figure size 640x480 with 1 Axes>"
            ],
            "image/png": "[encoded data removed]"
          },
          "metadata": {}
        }
      ]
    },
    {
      "cell_type": "code",
      "source": [
        "plt.plot( learningRateExponents_i, loss_i ) # Learning Rate Exponents\n",
        "\n",
        "# This shows which Exponent of Learning Rate to use, somewhere around min / valley\n",
        "# For our setup, shows around -1 is good Exponent (10 ^ -1 = 0.1, which is our original we used, which was good)"
      ],
      "metadata": {
        "colab": {
          "base_uri": "https://localhost:8080/",
          "height": 449
        },
        "id": "4xP_ePGfCoVs",
        "outputId": "3e5ad541-5ff4-4c92-c0ee-0535ade9c838"
      },
      "execution_count": null,
      "outputs": [
        {
          "output_type": "execute_result",
          "data": {
            "text/plain": [
              "[<matplotlib.lines.Line2D at 0x7f938d284760>]"
            ]
          },
          "metadata": {},
          "execution_count": 17
        },
        {
          "output_type": "display_data",
          "data": {
            "text/plain": [
              "<Figure size 640x480 with 1 Axes>"
            ],
            "image/png": "[encoded data removed]"
          },
          "metadata": {}
        }
      ]
    },
    {
      "cell_type": "code",
      "source": [
        "# NOW, can apply our ideal Learning Rate (0.1), add far more steps (e.g. 10k, repeated 2 or 3 times to see if Loss continues to go down)\n",
        "# Once Loss seems to have converged, and plateaus, can \"Learning Rate Decay\" by dropping Learning Rate a bit, to something like 0.01 from 0.1 (e.g. drop by factor 10) -> Potentially improves Loss even more\n",
        "\n",
        "MINI_BATCH_SIZE = 32\n",
        "\n",
        "for i in range( 10000 ): # Can crank up higher now (e.g. 10000)\n",
        "\n",
        "  # Create Mini Batch\n",
        "  ix = torch.randint( 0, X.shape[0], (MINI_BATCH_SIZE,) )\n",
        "  embeddings = C[X[ix]] # 32x3 x 2\n",
        "\n",
        "\n",
        "  # Hidden Layer\n",
        "  h = torch.tanh( embeddings.view(-1, 3*2) @ W1 + b1 ) # 32 x 100\n",
        "\n",
        "\n",
        "  # Output Layer\n",
        "  logits = h @ W2 + b2 # 32 x 27\n",
        "  loss = F.cross_entropy( logits, Y[ix] );\n",
        "\n",
        "\n",
        "  # Backward Propagation\n",
        "  for p in parameters:\n",
        "    p.grad = None\n",
        "\n",
        "  loss.backward()\n",
        "\n",
        "  #learningRate = 0.1 # The Ideal Larning Rate we saw -- RAN WITH 2-3 times\n",
        "  learningRate = 0.01 # Learning Rate Decay  (10x lower it) -- RAN WITH 2-3 times\n",
        "  for p in parameters:\n",
        "    p.data += -learningRate * p.grad\n",
        "\n",
        "\n",
        "# Check Resulting Loss\n",
        "embeddings = C[X] # 32x3 x 2\n",
        "h = torch.tanh( embeddings.view(-1, 6) @ W1 + b1 ) # 32 x 100\n",
        "logits = h @ W2 + b2 # 32 x 27\n",
        "loss = F.cross_entropy( logits, Y )\n",
        "print( loss.item() )"
      ],
      "metadata": {
        "colab": {
          "base_uri": "https://localhost:8080/"
        },
        "id": "Vu0Yg6BSD1XL",
        "outputId": "640ff0c3-1456-40a1-c463-2c88dce5b45e"
      },
      "execution_count": null,
      "outputs": [
        {
          "output_type": "stream",
          "name": "stdout",
          "text": [
            "2.3155136108398438\n"
          ]
        }
      ]
    },
    {
      "cell_type": "code",
      "source": [
        "# ========================= DUPLICATED FOR CONVENIENCE =========================\n",
        "# ==============================================================================\n",
        "# =================================== RESET ====================================\n",
        "# ==============================================================================\n",
        "# Quick Re-Init of Model Parameters\n",
        "\n",
        "C = torch.randn( (27,2), generator=g )\n",
        "\n",
        "hiddenLayerNeuronCount = 100 # HyperParam\n",
        "W1 = torch.randn( (3*2, hiddenLayerNeuronCount), generator=g ) # Input = hiddenLayerNeuronCount, Output = 3*2 (3 Neurons, each with 2 Embedded Values)\n",
        "b1 = torch.randn( hiddenLayerNeuronCount )\n",
        "\n",
        "W2 = torch.randn( (hiddenLayerNeuronCount, 27), generator=g )\n",
        "b2 = torch.randn( 27, generator=g )\n",
        "\n",
        "\n",
        "# Ensure all Params Require Gradient (to be calc by Torch) -- Repeating here for Convenience.\n",
        "parameters = [C, W1, b1, W2, b2]\n",
        "for p in parameters:\n",
        "  p.requires_grad = True"
      ],
      "metadata": {
        "id": "MUHqDXsKITKD"
      },
      "execution_count": null,
      "outputs": []
    },
    {
      "cell_type": "code",
      "source": [
        "# - NOTE: This Loss gets down below 2.45 from original BiGram Model we had, now we're below 2.4 (doing better than BiGram Model)\n",
        "# -- This isn't necessarily a better Model than the BiGram Model we had since 3481 Param Model (like we have here) is still a pretty small Model.\n",
        "# ---- And as the Capacity or # Parameters grows, it becomes more capable of OVER FITTING Training Set -> I.e. LOWER LOSS, but just from memorizing Training Set (Loss on unseen Data can be very large)\n",
        "# ---- This is where Validation Sets comes in\n",
        "# -- This Model has sum( p.nelement() for p in parameters ) many Parameters (each C, W1, b1, W2, b2 have their own values, accumlating to total # Params, here it's 3481)\n",
        "\n",
        "# Training Split (usually 80% of DataSet), Dev/Validation Split (10% of DataSet), Test Split (10% of DataSet)\n",
        "# -- Training Set used to Optimize Model Parameters\n",
        "# -- Validation Set used to \"develop\" the Model (tune Hyper Parameters, e.g. size of Hidden Layer, size of Embedding, etc.)\n",
        "# ---- Can try variations of Hyper Parameters to find best\n",
        "# -- Test Set used to evaluate Model Performance\n",
        "# ---- Done sparingly and a few times! If do too much, Model starts to learn Test Split and it becomes less useful (risk Overfitting to Test Split)\n",
        "\n",
        "\n",
        "# ============================== CHECKPOINT ====================================\n",
        "\n",
        "# =========================== Data Set Splits ==================================\n",
        "# NOW Split the Data into Training, Validation, and Test Splits\n",
        "\n",
        "# Takes list of Words and builds Xs and Ys for those Words only\n",
        "def build_dataset( words ):\n",
        "  block_size = 3\n",
        "  X, Y = [], []\n",
        "\n",
        "  for w in words:\n",
        "    context = [0] * block_size\n",
        "\n",
        "    for ch in w + '.':\n",
        "      ix = stoi[ch]\n",
        "      X.append( context )\n",
        "      Y.append( ix )\n",
        "\n",
        "      context = context[1:] + [ix] # Shift Context Window\n",
        "\n",
        "  X = torch.tensor( X )\n",
        "  Y = torch.tensor( Y )\n",
        "  return X, Y\n",
        "\n",
        "# Shuffle all the Words in our DataSet\n",
        "import random\n",
        "random.seed(42)\n",
        "random.shuffle( words )\n",
        "\n",
        "n1 = int( 0.8 * len(words) ) # n1 is first 80% of the Words\n",
        "n2 = int( 0.9 * len(words) ) # n2 is next 90% of the Words (acts as 10% when used as range n1 to)\n",
        "\n",
        "X_train, Y_train = build_dataset( words[:n1] )\n",
        "X_dev, Y_dev = build_dataset( words[n1:n2] )\n",
        "X_test, Y_test = build_dataset( words[n2:] )\n",
        "\n"
      ],
      "metadata": {
        "id": "HCJNixfyDud5"
      },
      "execution_count": null,
      "outputs": []
    },
    {
      "cell_type": "code",
      "source": [
        "# Now put the Data Set Splits to use\n",
        "\n",
        "# MODEL TRAINING -- Only uses Training Split\n",
        "# NOTE: Usually not done in-line, usually launch bunch of Jobs and wait for them to finish (can often take multiple days with larger Models)\n",
        "\n",
        "\n",
        "MINI_BATCH_SIZE = 32\n",
        "\n",
        "for i in range( 10000 ): # Increasing Steps for faster training in one go (was 30k for initial, then dropped to 10k when Learning Rate Decayed, mainly for faster training)\n",
        "\n",
        "  # Create Mini Batch\n",
        "  ix = torch.randint( 0, X_train.shape[0], (MINI_BATCH_SIZE,) )\n",
        "  embeddings = C[X_train[ix]] # 32x3 x 2\n",
        "\n",
        "\n",
        "  # Hidden Layer\n",
        "  h = torch.tanh( embeddings.view(-1, 3*2) @ W1 + b1 ) # 32 x 100\n",
        "\n",
        "\n",
        "  # Output Layer\n",
        "  logits = h @ W2 + b2 # 32 x 27\n",
        "  loss = F.cross_entropy( logits, Y_train[ix] );\n",
        "\n",
        "\n",
        "  # Backward Propagation\n",
        "  for p in parameters:\n",
        "    p.grad = None\n",
        "\n",
        "  loss.backward()\n",
        "\n",
        "  #learningRate = 0.1 # The Ideal Larning Rate we saw -- RAN WITH 2-3 times\n",
        "  learningRate = 0.01 # Learning Rate Decay  (10x lower it) -- RAN WITH 2-3 times\n",
        "  for p in parameters:\n",
        "    p.data += -learningRate * p.grad\n",
        "\n",
        "print( loss.item() )"
      ],
      "metadata": {
        "colab": {
          "base_uri": "https://localhost:8080/"
        },
        "id": "Seh5joLPIFrl",
        "outputId": "169f292d-057f-4f77-8c46-9bee172d9260"
      },
      "execution_count": null,
      "outputs": [
        {
          "output_type": "stream",
          "name": "stdout",
          "text": [
            "2.2914910316467285\n"
          ]
        }
      ]
    },
    {
      "cell_type": "code",
      "source": [
        "# MODEL EVALUATING -- Using dev set here...\n",
        "\n",
        "embeddings = C[X_dev] # 32x3 x 2\n",
        "h = torch.tanh( embeddings.view(-1, 6) @ W1 + b1 ) # 32 x 100\n",
        "logits = h @ W2 + b2 # 32 x 27\n",
        "loss = F.cross_entropy( logits, Y_dev )\n",
        "\n",
        "print( \"Dev Loss:\", loss.item() ) # Still pretty good Loss even know Model never seen these Examples yet\n",
        "\n",
        "\n",
        "# Can compare to Training Loss to make sure we're not Overfitting (they're about equal, which is good)\n",
        "# -- Model isn't powerful enough to Overfit the Data right now (to purely memorize data)\n",
        "# -- We're right now \"Underfitting\" since Training Loss and Dev/Test Losses are roughly equal\n",
        "# ---- Means our Model is very small. We can improve Performance by increasing Model size\n",
        "\n",
        "embeddings = C[X_train] # 32x3 x 2\n",
        "h = torch.tanh( embeddings.view(-1, 6) @ W1 + b1 ) # 32 x 100\n",
        "logits = h @ W2 + b2 # 32 x 27\n",
        "loss = F.cross_entropy( logits, Y_train )\n",
        "\n",
        "print( \"Train Loss:\", loss.item() ) # Still pretty good Loss even know Model never seen these Examples ye\n"
      ],
      "metadata": {
        "colab": {
          "base_uri": "https://localhost:8080/"
        },
        "id": "E5mu-4K7JPXP",
        "outputId": "e1a31b7a-bd42-4fd5-d760-ff51a16cc6a4"
      },
      "execution_count": null,
      "outputs": [
        {
          "output_type": "stream",
          "name": "stdout",
          "text": [
            "2.263089179992676\n",
            "2.2664990425109863\n"
          ]
        }
      ]
    },
    {
      "cell_type": "code",
      "source": [
        "# ========================= INCREASING PARAMETER COUNT =========================\n",
        "# ==============================================================================\n",
        "# =================================== RESET ====================================\n",
        "# ==============================================================================\n",
        "\n",
        "# INCREASING MODEL SIZE (more Parameters)\n",
        "# -- NOTE: With a larger Model, will take longer to Converge (more Steps & thus Training Time)\n",
        "# -- NOTE: Bottlenecks can hinder Model's Performance growth (e.g. 2D Embeddings as Input may bottleneck Model from being able to represent much with them and keep from improving Performance)\n",
        "\n",
        "C = torch.randn( (27,2), generator=g )\n",
        "\n",
        "#hiddenLayerNeuronCount = 100 # HyperParam\n",
        "hiddenLayerNeuronCount = 300 # HyperParam -- BUMPING UP to increase Model Size (~10k Params instead of ~3k Params)\n",
        "W1 = torch.randn( (3*2, hiddenLayerNeuronCount), generator=g ) # Input = hiddenLayerNeuronCount, Output = 3*2 (3 Neurons, each with 2 Embedded Values)\n",
        "b1 = torch.randn( hiddenLayerNeuronCount )\n",
        "\n",
        "W2 = torch.randn( (hiddenLayerNeuronCount, 27), generator=g )\n",
        "b2 = torch.randn( 27, generator=g )\n",
        "\n",
        "\n",
        "# Ensure all Params Require Gradient (to be calc by Torch) -- Repeating here for Convenience.\n",
        "parameters = [C, W1, b1, W2, b2]\n",
        "for p in parameters:\n",
        "  p.requires_grad = True\n",
        "\n",
        "\n",
        "print( sum(p.nelement() for p in parameters) ) # Number of Parameters in Total"
      ],
      "metadata": {
        "colab": {
          "base_uri": "https://localhost:8080/"
        },
        "id": "FlZB1IccKiSS",
        "outputId": "7a87bcb0-f2a0-43ec-aa2e-74fc7e6caab7"
      },
      "execution_count": null,
      "outputs": [
        {
          "output_type": "stream",
          "name": "stdout",
          "text": [
            "10281\n"
          ]
        }
      ]
    },
    {
      "cell_type": "code",
      "source": [
        "# ..."
      ],
      "metadata": {
        "id": "O4zr8rM7zp8F"
      },
      "execution_count": null,
      "outputs": []
    }
  ]
}